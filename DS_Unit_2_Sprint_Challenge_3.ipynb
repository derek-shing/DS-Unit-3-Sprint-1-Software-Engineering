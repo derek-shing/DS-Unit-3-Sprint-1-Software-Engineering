{
 "cells": [
  {
   "cell_type": "markdown",
   "metadata": {
    "colab_type": "text",
    "id": "ayDccRP01GJD"
   },
   "source": [
    "# Data Science Unit 2 Sprint Challenge 3\n",
    "\n",
    "## Logistic Regression and Beyond\n",
    "\n",
    "In this sprint challenge you will fit a logistic regression modeling the probability of an adult having an income above 50K. The dataset is available at UCI:\n",
    "\n",
    "https://archive.ics.uci.edu/ml/datasets/adult\n",
    "\n",
    "Your goal is to:\n",
    "\n",
    "1. Load, validate, and clean/prepare the data.\n",
    "2. Fit a logistic regression model\n",
    "3. Answer questions based on the results (as well as a few extra questions about the other modules)\n",
    "\n",
    "Don't let the perfect be the enemy of the good! Manage your time, and make sure to get to all parts. If you get stuck wrestling with the data, simplify it (if necessary, drop features or rows) so you're able to move on. If you have time at the end, you can go back and try to fix/improve.\n",
    "\n",
    "### Hints\n",
    "\n",
    "It has a variety of features - some are continuous, but many are categorical. You may find [pandas.get_dummies](https://pandas.pydata.org/pandas-docs/stable/generated/pandas.get_dummies.html) (a method to one-hot encode) helpful!\n",
    "\n",
    "The features have dramatically different ranges. You may find [sklearn.preprocessing.minmax_scale](https://scikit-learn.org/stable/modules/generated/sklearn.preprocessing.minmax_scale.html#sklearn.preprocessing.minmax_scale) helpful!"
   ]
  },
  {
   "cell_type": "markdown",
   "metadata": {
    "colab_type": "text",
    "id": "U22R1Ud51hxb"
   },
   "source": [
    "## Part 1 - Load, validate, and prepare data\n",
    "\n",
    "The data is available at: https://archive.ics.uci.edu/ml/datasets/adult\n",
    "\n",
    "Load it, name the columns, and make sure that you've loaded the data successfully. Note that missing values for categorical variables can essentially be considered another category (\"unknown\"), and may not need to be dropped.\n",
    "\n",
    "You should also prepare the data for logistic regression - one-hot encode categorical features as appropriate."
   ]
  },
  {
   "cell_type": "code",
   "execution_count": 0,
   "metadata": {
    "colab": {},
    "colab_type": "code",
    "id": "SeOByIkht-NS"
   },
   "outputs": [],
   "source": [
    "# TODO - your work!"
   ]
  },
  {
   "cell_type": "markdown",
   "metadata": {
    "colab_type": "text",
    "id": "RT1LFnFO1lo6"
   },
   "source": [
    "## Part 2 - Fit and present a Logistic Regression\n",
    "\n",
    "Your data should now be in a state to fit a logistic regression. Use scikit-learn, define your `X` (independent variable) and `y`, and fit a model.\n",
    "\n",
    "Then, present results - display coefficients in as interpretible a way as you can (hint - scaling the numeric features will help, as it will at least make coefficients more comparable to each other). If you find it helpful for interpretation, you can also generate predictions for cases (like our 5 year old rich kid on the Titanic) or make visualizations - but the goal is your exploration to be able to answer the question, not any particular plot (i.e. don't worry about polishing it).\n",
    "\n",
    "It is *optional* to use `train_test_split` or validate your model more generally - that is not the core focus for this week. So, it is suggested you focus on fitting a model first, and if you have time at the end you can do further validation."
   ]
  },
  {
   "cell_type": "code",
   "execution_count": 0,
   "metadata": {
    "colab": {},
    "colab_type": "code",
    "id": "s7fTRDXguD7N"
   },
   "outputs": [],
   "source": [
    "# TODO - your work!"
   ]
  },
  {
   "cell_type": "markdown",
   "metadata": {
    "colab_type": "text",
    "id": "BkIa-Sa21qdC"
   },
   "source": [
    "## Part 3 - Analysis, Interpretation, and Questions\n",
    "\n",
    "### Based on your above model, answer the following questions\n",
    "\n",
    "1. What are 3 features positively correlated with income above 50k?\n",
    "2. What are 3 features negatively correlated with income above 50k?\n",
    "3. Overall, how well does the model explain the data and what insights do you derive from it?\n",
    "\n",
    "*These answers count* - that is, make sure to spend some time on them, connecting to your analysis above. There is no single right answer, but as long as you support your reasoning with evidence you are on the right track.\n",
    "\n",
    "Note - scikit-learn logistic regression does *not* automatically perform a hypothesis test on coefficients. That is OK - if you scale the data they are more comparable in weight.\n",
    "\n",
    "### Match the following situation descriptions with the model most appropriate to addressing them\n",
    "\n",
    "In addition to logistic regression, a number of other approaches were covered this week. Pair them with the situations they are most appropriate for, and briefly explain why.\n",
    "\n",
    "Situations:\n",
    "1. You are given data on academic performance of primary school students, and asked to fit a model to help predict \"at-risk\" students who are likely to receive the bottom tier of grades.\n",
    "2. You are studying tech companies and their patterns in releasing new products, and would like to be able to model and predict when a new product is likely to be launched.\n",
    "3. You are working on modeling expected plant size and yield with a laboratory that is able to capture fantastically detailed physical data about plants, but only of a few dozen plants at a time.\n",
    "\n",
    "Approaches:\n",
    "1. Ridge Regression\n",
    "2. Quantile Regression\n",
    "3. Survival Analysis"
   ]
  },
  {
   "cell_type": "markdown",
   "metadata": {
    "colab_type": "text",
    "id": "Yjj0sseiuHib"
   },
   "source": [
    "**TODO - your answers!**"
   ]
  }
 ],
 "metadata": {
  "colab": {
   "name": "DS_Unit_2_Sprint_Challenge_3.ipynb",
   "provenance": [],
   "version": "0.3.2"
  },
  "kernelspec": {
   "display_name": "Python 3",
   "language": "python",
   "name": "python3"
  },
  "language_info": {
   "codemirror_mode": {
    "name": "ipython",
    "version": 3
   },
   "file_extension": ".py",
   "mimetype": "text/x-python",
   "name": "python",
   "nbconvert_exporter": "python",
   "pygments_lexer": "ipython3",
   "version": "3.6.4"
  }
 },
 "nbformat": 4,
 "nbformat_minor": 1
}
